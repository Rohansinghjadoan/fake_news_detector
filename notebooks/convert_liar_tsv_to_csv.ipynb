{
 "cells": [
  {
   "cell_type": "markdown",
   "metadata": {},
   "source": [
    "# convert into csv file\n",
    "\n"
   ]
  },
  {
   "cell_type": "code",
   "execution_count": 1,
   "metadata": {},
   "outputs": [
    {
     "name": "stdout",
     "output_type": "stream",
     "text": [
      "✅ Saved to ../data/liar_dataset.csv\n"
     ]
    }
   ],
   "source": [
    "import pandas as pd\n",
    "\n",
    "## uses '../'for going out from the folder to access new folder \n",
    "train = pd.read_csv('../data/train.tsv', sep='\\t', header=None)\n",
    "test = pd.read_csv('../data/test.tsv', sep='\\t', header=None)\n",
    "valid = pd.read_csv('../data/valid.tsv', sep='\\t', header=None)\n",
    "\n",
    "df = pd.concat([train, valid, test], axis=0).reset_index(drop=True)\n",
    "\n",
    "df.columns = [\n",
    "    'ID', 'Label', 'Statement', 'Subject', 'Speaker', 'Job Title',\n",
    "    'State', 'Party', 'Barely True', 'False', 'Half True',\n",
    "    'Mostly True', 'Pants on Fire', 'Context'\n",
    "]\n",
    "\n",
    "# Save the combined file\n",
    "df.to_csv('../data/liar_dataset.csv', index=False)\n",
    "print(\"✅ Saved to ../data/liar_dataset.csv\")\n",
    "\n"
   ]
  },
  {
   "cell_type": "markdown",
   "metadata": {},
   "source": []
  },
  {
   "cell_type": "markdown",
   "metadata": {},
   "source": []
  },
  {
   "cell_type": "markdown",
   "metadata": {},
   "source": []
  }
 ],
 "metadata": {
  "kernelspec": {
   "display_name": "myenv",
   "language": "python",
   "name": "python3"
  },
  "language_info": {
   "codemirror_mode": {
    "name": "ipython",
    "version": 3
   },
   "file_extension": ".py",
   "mimetype": "text/x-python",
   "name": "python",
   "nbconvert_exporter": "python",
   "pygments_lexer": "ipython3",
   "version": "3.12.3"
  }
 },
 "nbformat": 4,
 "nbformat_minor": 2
}
